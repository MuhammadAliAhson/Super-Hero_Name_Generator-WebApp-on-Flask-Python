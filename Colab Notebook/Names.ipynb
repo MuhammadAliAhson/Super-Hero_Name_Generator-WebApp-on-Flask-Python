{
  "nbformat": 4,
  "nbformat_minor": 0,
  "metadata": {
    "colab": {
      "provenance": []
    },
    "kernelspec": {
      "name": "python3",
      "display_name": "Python 3"
    },
    "language_info": {
      "name": "python"
    }
  },
  "cells": [
    {
      "cell_type": "code",
      "execution_count": 1,
      "metadata": {
        "colab": {
          "base_uri": "https://localhost:8080/"
        },
        "id": "PNCGF6jH1CNY",
        "outputId": "1f503a57-9dc4-4162-c303-5561265a7b88"
      },
      "outputs": [
        {
          "output_type": "stream",
          "name": "stdout",
          "text": [
            "Done\n"
          ]
        }
      ],
      "source": [
        "import numpy as np\n",
        "import tensorflow as tf\n",
        "from matplotlib import pyplot as plt\n",
        "from sklearn.model_selection import train_test_split\n",
        "print('Done')"
      ]
    },
    {
      "cell_type": "code",
      "source": [
        "from keras.preprocessing.text import Tokenizer\n",
        "from keras.callbacks import EarlyStopping \n",
        "from keras.models import Sequential\n",
        "from keras.layers import Embedding , Conv1D , MaxPool1D , LSTM , Dense\n",
        "print('Done')"
      ],
      "metadata": {
        "colab": {
          "base_uri": "https://localhost:8080/"
        },
        "id": "NVRTN5LU1GMP",
        "outputId": "209edb25-e0be-4656-9785-7a64c1b8b9dc"
      },
      "execution_count": 2,
      "outputs": [
        {
          "output_type": "stream",
          "name": "stdout",
          "text": [
            "Done\n"
          ]
        }
      ]
    },
    {
      "cell_type": "code",
      "source": [
        "!git clone https://github.com/am1tyadav/superhero"
      ],
      "metadata": {
        "colab": {
          "base_uri": "https://localhost:8080/"
        },
        "id": "MXLaesrX2NmK",
        "outputId": "d23167ca-3f15-477d-a778-318dc9259b90"
      },
      "execution_count": 3,
      "outputs": [
        {
          "output_type": "stream",
          "name": "stdout",
          "text": [
            "Cloning into 'superhero'...\n",
            "remote: Enumerating objects: 8, done.\u001b[K\n",
            "remote: Counting objects: 100% (8/8), done.\u001b[K\n",
            "remote: Compressing objects: 100% (7/7), done.\u001b[K\n",
            "remote: Total 8 (delta 0), reused 4 (delta 0), pack-reused 0\u001b[K\n",
            "Unpacking objects: 100% (8/8), 47.06 KiB | 2.35 MiB/s, done.\n"
          ]
        }
      ]
    },
    {
      "cell_type": "code",
      "source": [
        "with open('superhero/superheroes.txt','r') as f:\n",
        "    data = f.read()\n",
        "data[:10]"
      ],
      "metadata": {
        "colab": {
          "base_uri": "https://localhost:8080/",
          "height": 35
        },
        "id": "Ub_Odh9b2QTB",
        "outputId": "7c844162-07d0-4b59-c763-1452bcc9a6a5"
      },
      "execution_count": 4,
      "outputs": [
        {
          "output_type": "execute_result",
          "data": {
            "text/plain": [
              "'jumpa\\t\\ndoc'"
            ],
            "application/vnd.google.colaboratory.intrinsic+json": {
              "type": "string"
            }
          },
          "metadata": {},
          "execution_count": 4
        }
      ]
    },
    {
      "cell_type": "code",
      "source": [
        "tokenizer = Tokenizer( filters='!\"#$%&()*+,-./:;<=>?@[\\\\]^_`{|}~' , split='\\n' )"
      ],
      "metadata": {
        "id": "s-GKD1u21QFX"
      },
      "execution_count": 5,
      "outputs": []
    },
    {
      "cell_type": "code",
      "source": [
        "tokenizer.fit_on_texts(data)"
      ],
      "metadata": {
        "id": "09gEdQEZ2-Di"
      },
      "execution_count": 6,
      "outputs": []
    },
    {
      "cell_type": "code",
      "source": [
        "char_to_index = tokenizer.word_index\n",
        "index_to_char = dict((value , key) for key , value in char_to_index.items())\n",
        "\n",
        "index_to_char"
      ],
      "metadata": {
        "colab": {
          "base_uri": "https://localhost:8080/"
        },
        "id": "Vm27pqz32-kh",
        "outputId": "326aa795-7e8b-47e0-bce9-fe02e40d0c7d"
      },
      "execution_count": 7,
      "outputs": [
        {
          "output_type": "execute_result",
          "data": {
            "text/plain": [
              "{1: '\\t',\n",
              " 2: 'a',\n",
              " 3: 'e',\n",
              " 4: 'r',\n",
              " 5: 'o',\n",
              " 6: 'n',\n",
              " 7: 'i',\n",
              " 8: ' ',\n",
              " 9: 't',\n",
              " 10: 's',\n",
              " 11: 'l',\n",
              " 12: 'm',\n",
              " 13: 'h',\n",
              " 14: 'd',\n",
              " 15: 'c',\n",
              " 16: 'u',\n",
              " 17: 'g',\n",
              " 18: 'k',\n",
              " 19: 'b',\n",
              " 20: 'p',\n",
              " 21: 'y',\n",
              " 22: 'w',\n",
              " 23: 'f',\n",
              " 24: 'v',\n",
              " 25: 'j',\n",
              " 26: 'z',\n",
              " 27: 'x',\n",
              " 28: 'q'}"
            ]
          },
          "metadata": {},
          "execution_count": 7
        }
      ]
    },
    {
      "cell_type": "code",
      "source": [
        "names = data.splitlines()\n",
        "names[:10]"
      ],
      "metadata": {
        "colab": {
          "base_uri": "https://localhost:8080/"
        },
        "id": "DWfqdbQD3Ac2",
        "outputId": "471320f8-445c-4b3b-e58e-949891ee03ab"
      },
      "execution_count": 8,
      "outputs": [
        {
          "output_type": "execute_result",
          "data": {
            "text/plain": [
              "['jumpa\\t',\n",
              " 'doctor fate\\t',\n",
              " 'starlight\\t',\n",
              " 'isildur\\t',\n",
              " 'lasher\\t',\n",
              " 'varvara\\t',\n",
              " 'the target\\t',\n",
              " 'axel\\t',\n",
              " 'battra\\t',\n",
              " 'changeling\\t']"
            ]
          },
          "metadata": {},
          "execution_count": 8
        }
      ]
    },
    {
      "cell_type": "code",
      "source": [
        "import pickle\n",
        "from tensorflow.keras.preprocessing.text import Tokenizer\n",
        "\n",
        "tokenizer.texts_to_sequences(names[0])\n",
        "\n",
        "# Save the tokenizer\n",
        "with open(\"tokenizer.pkl\", \"wb\") as f:\n",
        "    pickle.dump(tokenizer, f)"
      ],
      "metadata": {
        "id": "G_SOiJLD3Ddh"
      },
      "execution_count": 31,
      "outputs": []
    },
    {
      "cell_type": "code",
      "source": [
        "def name_to_seq(name):\n",
        "    return [tokenizer.texts_to_sequences(c)[0][0] for c in name]"
      ],
      "metadata": {
        "id": "p7vCm9Yz3FTt"
      },
      "execution_count": 10,
      "outputs": []
    },
    {
      "cell_type": "code",
      "source": [
        "name_to_seq(names[0])"
      ],
      "metadata": {
        "colab": {
          "base_uri": "https://localhost:8080/"
        },
        "id": "Oojox9zd3HU1",
        "outputId": "8a24e8e8-2f54-4a30-a771-610e04a755b9"
      },
      "execution_count": 11,
      "outputs": [
        {
          "output_type": "execute_result",
          "data": {
            "text/plain": [
              "[25, 16, 12, 20, 2, 1]"
            ]
          },
          "metadata": {},
          "execution_count": 11
        }
      ]
    },
    {
      "cell_type": "code",
      "source": [
        "def seq_to_name(seq):\n",
        "    return ''.join([index_to_char[i] for i in seq if i != 0])"
      ],
      "metadata": {
        "id": "EEA5ue9U3Jae"
      },
      "execution_count": 12,
      "outputs": []
    },
    {
      "cell_type": "code",
      "source": [
        "seq_to_name(name_to_seq(names[0]))"
      ],
      "metadata": {
        "colab": {
          "base_uri": "https://localhost:8080/",
          "height": 35
        },
        "id": "SJR0NfZP3LhA",
        "outputId": "7bd6ebd8-dc66-4a07-9769-759966d117aa"
      },
      "execution_count": 13,
      "outputs": [
        {
          "output_type": "execute_result",
          "data": {
            "text/plain": [
              "'jumpa\\t'"
            ],
            "application/vnd.google.colaboratory.intrinsic+json": {
              "type": "string"
            }
          },
          "metadata": {},
          "execution_count": 13
        }
      ]
    },
    {
      "cell_type": "code",
      "source": [
        "sequences = []\n",
        "\n",
        "for name in names :\n",
        "    seq = name_to_seq(name)\n",
        "    if len(seq) >= 2 :\n",
        "        sequences += [seq[:i] for i in range(2 , len(seq) + 1)]"
      ],
      "metadata": {
        "id": "Rop0oGyL3NHC"
      },
      "execution_count": 14,
      "outputs": []
    },
    {
      "cell_type": "code",
      "source": [
        "sequences[:10]"
      ],
      "metadata": {
        "colab": {
          "base_uri": "https://localhost:8080/"
        },
        "id": "duP6OCNM3PrO",
        "outputId": "501721de-3488-4bff-99bc-a670c6bbdb5f"
      },
      "execution_count": 15,
      "outputs": [
        {
          "output_type": "execute_result",
          "data": {
            "text/plain": [
              "[[25, 16],\n",
              " [25, 16, 12],\n",
              " [25, 16, 12, 20],\n",
              " [25, 16, 12, 20, 2],\n",
              " [25, 16, 12, 20, 2, 1],\n",
              " [14, 5],\n",
              " [14, 5, 15],\n",
              " [14, 5, 15, 9],\n",
              " [14, 5, 15, 9, 5],\n",
              " [14, 5, 15, 9, 5, 4]]"
            ]
          },
          "metadata": {},
          "execution_count": 15
        }
      ]
    },
    {
      "cell_type": "code",
      "source": [
        "max_len = max([len(x) for x in sequences])\n",
        "max_len"
      ],
      "metadata": {
        "colab": {
          "base_uri": "https://localhost:8080/"
        },
        "id": "gVFrGREm3Rzc",
        "outputId": "2e472479-8c3b-4a55-9bb0-9ec6525586dc"
      },
      "execution_count": 16,
      "outputs": [
        {
          "output_type": "execute_result",
          "data": {
            "text/plain": [
              "33"
            ]
          },
          "metadata": {},
          "execution_count": 16
        }
      ]
    },
    {
      "cell_type": "code",
      "source": [
        "padded_sequences = tf.keras.utils.pad_sequences( sequences , padding = 'pre' , maxlen = max_len )\n",
        "\n",
        "padded_sequences[0]"
      ],
      "metadata": {
        "colab": {
          "base_uri": "https://localhost:8080/"
        },
        "id": "o8vx9Hpk3UV5",
        "outputId": "74b447a8-3c22-4162-af6e-d136901e84bc"
      },
      "execution_count": 17,
      "outputs": [
        {
          "output_type": "execute_result",
          "data": {
            "text/plain": [
              "array([ 0,  0,  0,  0,  0,  0,  0,  0,  0,  0,  0,  0,  0,  0,  0,  0,  0,\n",
              "        0,  0,  0,  0,  0,  0,  0,  0,  0,  0,  0,  0,  0,  0, 25, 16],\n",
              "      dtype=int32)"
            ]
          },
          "metadata": {},
          "execution_count": 17
        }
      ]
    },
    {
      "cell_type": "code",
      "source": [
        "padded_sequences.shape"
      ],
      "metadata": {
        "colab": {
          "base_uri": "https://localhost:8080/"
        },
        "id": "MAVfyDwA3V4X",
        "outputId": "37b7e266-a274-431d-dd49-77226a3a96c9"
      },
      "execution_count": 18,
      "outputs": [
        {
          "output_type": "execute_result",
          "data": {
            "text/plain": [
              "(88279, 33)"
            ]
          },
          "metadata": {},
          "execution_count": 18
        }
      ]
    },
    {
      "cell_type": "code",
      "source": [
        "x , y = padded_sequences[:,:-1] , padded_sequences[:,-1]\n",
        "[x.shape , y.shape]"
      ],
      "metadata": {
        "colab": {
          "base_uri": "https://localhost:8080/"
        },
        "id": "32Jng29B3zfZ",
        "outputId": "5f05ea38-bc2d-46c5-b368-f90a1a0983ec"
      },
      "execution_count": 19,
      "outputs": [
        {
          "output_type": "execute_result",
          "data": {
            "text/plain": [
              "[(88279, 32), (88279,)]"
            ]
          },
          "metadata": {},
          "execution_count": 19
        }
      ]
    },
    {
      "cell_type": "code",
      "source": [
        "X_train , X_test , Y_train , Y_test = train_test_split(x , y , train_size= 0.8 , random_state= 4)\n",
        "\n",
        "[X_train.shape,Y_train.shape,X_test.shape,Y_test.shape]"
      ],
      "metadata": {
        "colab": {
          "base_uri": "https://localhost:8080/"
        },
        "id": "Fly1EElw33Jg",
        "outputId": "b524a693-a039-4090-b06c-baa15e69f5ce"
      },
      "execution_count": 20,
      "outputs": [
        {
          "output_type": "execute_result",
          "data": {
            "text/plain": [
              "[(70623, 32), (70623,), (17656, 32), (17656,)]"
            ]
          },
          "metadata": {},
          "execution_count": 20
        }
      ]
    },
    {
      "cell_type": "code",
      "source": [
        "num_chars = len(char_to_index.keys()) + 1\n",
        "num_chars"
      ],
      "metadata": {
        "colab": {
          "base_uri": "https://localhost:8080/"
        },
        "id": "MX0IrneC36QE",
        "outputId": "3cc1e7d2-c2d4-44ac-8324-80da105231b5"
      },
      "execution_count": 21,
      "outputs": [
        {
          "output_type": "execute_result",
          "data": {
            "text/plain": [
              "29"
            ]
          },
          "metadata": {},
          "execution_count": 21
        }
      ]
    },
    {
      "cell_type": "code",
      "source": [
        "model = Sequential([\n",
        "                    Embedding(num_chars , 8 , input_length= max_len - 1 ) ,    \n",
        "                    Conv1D(64 , 5 , strides= 1 , activation= 'tanh' , padding= 'causal') ,\n",
        "                    MaxPool1D(2) ,\n",
        "                    LSTM(32) ,\n",
        "                    Dense(num_chars , activation='softmax')\n",
        "])\n",
        "\n",
        "model.compile(\n",
        "                loss = 'sparse_categorical_crossentropy' ,\n",
        "                optimizer = 'adam' ,\n",
        "                metrics = ['accuracy']\n",
        ")\n",
        "\n",
        "model.summary()"
      ],
      "metadata": {
        "colab": {
          "base_uri": "https://localhost:8080/"
        },
        "id": "P78YzsSc377P",
        "outputId": "d295e448-797c-4136-fbd9-3fa0e336f34f"
      },
      "execution_count": 22,
      "outputs": [
        {
          "output_type": "stream",
          "name": "stdout",
          "text": [
            "Model: \"sequential\"\n",
            "_________________________________________________________________\n",
            " Layer (type)                Output Shape              Param #   \n",
            "=================================================================\n",
            " embedding (Embedding)       (None, 32, 8)             232       \n",
            "                                                                 \n",
            " conv1d (Conv1D)             (None, 32, 64)            2624      \n",
            "                                                                 \n",
            " max_pooling1d (MaxPooling1D  (None, 16, 64)           0         \n",
            " )                                                               \n",
            "                                                                 \n",
            " lstm (LSTM)                 (None, 32)                12416     \n",
            "                                                                 \n",
            " dense (Dense)               (None, 29)                957       \n",
            "                                                                 \n",
            "=================================================================\n",
            "Total params: 16,229\n",
            "Trainable params: 16,229\n",
            "Non-trainable params: 0\n",
            "_________________________________________________________________\n"
          ]
        }
      ]
    },
    {
      "cell_type": "code",
      "source": [
        "a = model.fit ( X_train , Y_train , validation_data = (X_test,Y_test) , epochs = 50 , verbose = 2 , \n",
        "                callbacks= [EarlyStopping(monitor='val_accuracy' , patience = 3)])"
      ],
      "metadata": {
        "colab": {
          "base_uri": "https://localhost:8080/"
        },
        "id": "XEQqxzv73-Z9",
        "outputId": "5d1c3433-44f4-4200-b355-2e648523d135"
      },
      "execution_count": 23,
      "outputs": [
        {
          "output_type": "stream",
          "name": "stdout",
          "text": [
            "Epoch 1/50\n",
            "2207/2207 - 38s - loss: 2.7322 - accuracy: 0.1930 - val_loss: 2.5689 - val_accuracy: 0.2337 - 38s/epoch - 17ms/step\n",
            "Epoch 2/50\n",
            "2207/2207 - 31s - loss: 2.5222 - accuracy: 0.2435 - val_loss: 2.4729 - val_accuracy: 0.2542 - 31s/epoch - 14ms/step\n",
            "Epoch 3/50\n",
            "2207/2207 - 30s - loss: 2.4513 - accuracy: 0.2606 - val_loss: 2.4293 - val_accuracy: 0.2650 - 30s/epoch - 13ms/step\n",
            "Epoch 4/50\n",
            "2207/2207 - 30s - loss: 2.4051 - accuracy: 0.2739 - val_loss: 2.3939 - val_accuracy: 0.2747 - 30s/epoch - 14ms/step\n",
            "Epoch 5/50\n",
            "2207/2207 - 33s - loss: 2.3696 - accuracy: 0.2834 - val_loss: 2.3673 - val_accuracy: 0.2840 - 33s/epoch - 15ms/step\n",
            "Epoch 6/50\n",
            "2207/2207 - 31s - loss: 2.3407 - accuracy: 0.2931 - val_loss: 2.3439 - val_accuracy: 0.2901 - 31s/epoch - 14ms/step\n",
            "Epoch 7/50\n",
            "2207/2207 - 31s - loss: 2.3144 - accuracy: 0.3035 - val_loss: 2.3245 - val_accuracy: 0.2990 - 31s/epoch - 14ms/step\n",
            "Epoch 8/50\n",
            "2207/2207 - 30s - loss: 2.2915 - accuracy: 0.3105 - val_loss: 2.3055 - val_accuracy: 0.3053 - 30s/epoch - 13ms/step\n",
            "Epoch 9/50\n",
            "2207/2207 - 29s - loss: 2.2703 - accuracy: 0.3175 - val_loss: 2.2942 - val_accuracy: 0.3057 - 29s/epoch - 13ms/step\n",
            "Epoch 10/50\n",
            "2207/2207 - 31s - loss: 2.2510 - accuracy: 0.3232 - val_loss: 2.2830 - val_accuracy: 0.3143 - 31s/epoch - 14ms/step\n",
            "Epoch 11/50\n",
            "2207/2207 - 30s - loss: 2.2340 - accuracy: 0.3294 - val_loss: 2.2756 - val_accuracy: 0.3195 - 30s/epoch - 13ms/step\n",
            "Epoch 12/50\n",
            "2207/2207 - 29s - loss: 2.2178 - accuracy: 0.3344 - val_loss: 2.2641 - val_accuracy: 0.3172 - 29s/epoch - 13ms/step\n",
            "Epoch 13/50\n",
            "2207/2207 - 30s - loss: 2.2028 - accuracy: 0.3353 - val_loss: 2.2519 - val_accuracy: 0.3261 - 30s/epoch - 14ms/step\n",
            "Epoch 14/50\n",
            "2207/2207 - 31s - loss: 2.1888 - accuracy: 0.3437 - val_loss: 2.2463 - val_accuracy: 0.3253 - 31s/epoch - 14ms/step\n",
            "Epoch 15/50\n",
            "2207/2207 - 29s - loss: 2.1756 - accuracy: 0.3457 - val_loss: 2.2376 - val_accuracy: 0.3285 - 29s/epoch - 13ms/step\n",
            "Epoch 16/50\n",
            "2207/2207 - 30s - loss: 2.1631 - accuracy: 0.3496 - val_loss: 2.2325 - val_accuracy: 0.3332 - 30s/epoch - 14ms/step\n",
            "Epoch 17/50\n",
            "2207/2207 - 30s - loss: 2.1507 - accuracy: 0.3532 - val_loss: 2.2239 - val_accuracy: 0.3376 - 30s/epoch - 14ms/step\n",
            "Epoch 18/50\n",
            "2207/2207 - 30s - loss: 2.1400 - accuracy: 0.3586 - val_loss: 2.2180 - val_accuracy: 0.3399 - 30s/epoch - 13ms/step\n",
            "Epoch 19/50\n",
            "2207/2207 - 30s - loss: 2.1298 - accuracy: 0.3610 - val_loss: 2.2182 - val_accuracy: 0.3415 - 30s/epoch - 14ms/step\n",
            "Epoch 20/50\n",
            "2207/2207 - 30s - loss: 2.1208 - accuracy: 0.3625 - val_loss: 2.2089 - val_accuracy: 0.3402 - 30s/epoch - 14ms/step\n",
            "Epoch 21/50\n",
            "2207/2207 - 29s - loss: 2.1107 - accuracy: 0.3668 - val_loss: 2.2116 - val_accuracy: 0.3424 - 29s/epoch - 13ms/step\n",
            "Epoch 22/50\n",
            "2207/2207 - 30s - loss: 2.1020 - accuracy: 0.3702 - val_loss: 2.2062 - val_accuracy: 0.3406 - 30s/epoch - 14ms/step\n",
            "Epoch 23/50\n",
            "2207/2207 - 32s - loss: 2.0940 - accuracy: 0.3722 - val_loss: 2.2038 - val_accuracy: 0.3416 - 32s/epoch - 15ms/step\n",
            "Epoch 24/50\n",
            "2207/2207 - 30s - loss: 2.0852 - accuracy: 0.3761 - val_loss: 2.2000 - val_accuracy: 0.3471 - 30s/epoch - 14ms/step\n",
            "Epoch 25/50\n",
            "2207/2207 - 33s - loss: 2.0782 - accuracy: 0.3775 - val_loss: 2.2001 - val_accuracy: 0.3489 - 33s/epoch - 15ms/step\n",
            "Epoch 26/50\n",
            "2207/2207 - 30s - loss: 2.0708 - accuracy: 0.3795 - val_loss: 2.1971 - val_accuracy: 0.3517 - 30s/epoch - 14ms/step\n",
            "Epoch 27/50\n",
            "2207/2207 - 30s - loss: 2.0649 - accuracy: 0.3823 - val_loss: 2.1916 - val_accuracy: 0.3499 - 30s/epoch - 13ms/step\n",
            "Epoch 28/50\n",
            "2207/2207 - 31s - loss: 2.0581 - accuracy: 0.3846 - val_loss: 2.1942 - val_accuracy: 0.3521 - 31s/epoch - 14ms/step\n",
            "Epoch 29/50\n",
            "2207/2207 - 30s - loss: 2.0522 - accuracy: 0.3872 - val_loss: 2.1910 - val_accuracy: 0.3531 - 30s/epoch - 13ms/step\n",
            "Epoch 30/50\n",
            "2207/2207 - 29s - loss: 2.0467 - accuracy: 0.3884 - val_loss: 2.2007 - val_accuracy: 0.3518 - 29s/epoch - 13ms/step\n",
            "Epoch 31/50\n",
            "2207/2207 - 33s - loss: 2.0411 - accuracy: 0.3900 - val_loss: 2.1909 - val_accuracy: 0.3535 - 33s/epoch - 15ms/step\n",
            "Epoch 32/50\n",
            "2207/2207 - 30s - loss: 2.0349 - accuracy: 0.3932 - val_loss: 2.1914 - val_accuracy: 0.3537 - 30s/epoch - 14ms/step\n",
            "Epoch 33/50\n",
            "2207/2207 - 29s - loss: 2.0308 - accuracy: 0.3935 - val_loss: 2.1897 - val_accuracy: 0.3550 - 29s/epoch - 13ms/step\n",
            "Epoch 34/50\n",
            "2207/2207 - 31s - loss: 2.0258 - accuracy: 0.3943 - val_loss: 2.1888 - val_accuracy: 0.3569 - 31s/epoch - 14ms/step\n",
            "Epoch 35/50\n",
            "2207/2207 - 31s - loss: 2.0209 - accuracy: 0.3954 - val_loss: 2.1917 - val_accuracy: 0.3539 - 31s/epoch - 14ms/step\n",
            "Epoch 36/50\n",
            "2207/2207 - 30s - loss: 2.0167 - accuracy: 0.3980 - val_loss: 2.1920 - val_accuracy: 0.3586 - 30s/epoch - 14ms/step\n",
            "Epoch 37/50\n",
            "2207/2207 - 30s - loss: 2.0131 - accuracy: 0.3988 - val_loss: 2.1866 - val_accuracy: 0.3583 - 30s/epoch - 14ms/step\n",
            "Epoch 38/50\n",
            "2207/2207 - 31s - loss: 2.0080 - accuracy: 0.3996 - val_loss: 2.1901 - val_accuracy: 0.3564 - 31s/epoch - 14ms/step\n",
            "Epoch 39/50\n",
            "2207/2207 - 31s - loss: 2.0042 - accuracy: 0.4024 - val_loss: 2.1885 - val_accuracy: 0.3581 - 31s/epoch - 14ms/step\n"
          ]
        }
      ]
    },
    {
      "cell_type": "code",
      "source": [
        "epochs_ran = len(a.history['loss'])\n",
        "\n",
        "plt.plot(range(0, epochs_ran) , a.history['val_accuracy'] , label = 'Validation')\n",
        "plt.plot(range(0, epochs_ran) , a.history['accuracy'] , label = 'Training')\n",
        "plt.legend()\n",
        "plt.show()"
      ],
      "metadata": {
        "colab": {
          "base_uri": "https://localhost:8080/",
          "height": 430
        },
        "id": "5lPgXOqb4BdR",
        "outputId": "5f245254-a07c-4a6c-f1f8-48b02b0b4f12"
      },
      "execution_count": 24,
      "outputs": [
        {
          "output_type": "display_data",
          "data": {
            "text/plain": [
              "<Figure size 640x480 with 1 Axes>"
            ],
            "image/png": "[encoded data removed]"
          },
          "metadata": {}
        }
      ]
    },
    {
      "cell_type": "code",
      "source": [
        "def generate_name(seed):\n",
        "    for i in range(40):\n",
        "        seq = name_to_seq(seed)\n",
        "        padded = tf.keras.utils.pad_sequences( [seq] , padding = 'pre' , maxlen = max_len - 1 , truncating = 'pre')\n",
        "        pred = model.predict(padded)[0]\n",
        "        pred_char = index_to_char[np.argmax(pred)]\n",
        "        seed += pred_char\n",
        "\n",
        "        if pred_char == '\\t' :\n",
        "            break\n",
        "\n",
        "    print(seed)"
      ],
      "metadata": {
        "id": "dc0rWd797eTN"
      },
      "execution_count": 25,
      "outputs": []
    },
    {
      "cell_type": "code",
      "source": [
        "generate_name('te')"
      ],
      "metadata": {
        "colab": {
          "base_uri": "https://localhost:8080/"
        },
        "id": "aWvHmFDe7m9k",
        "outputId": "8f36551c-351d-4780-a468-d8c536ffa014"
      },
      "execution_count": 26,
      "outputs": [
        {
          "output_type": "stream",
          "name": "stdout",
          "text": [
            "1/1 [==============================] - 1s 580ms/step\n",
            "1/1 [==============================] - 0s 23ms/step\n",
            "1/1 [==============================] - 0s 26ms/step\n",
            "1/1 [==============================] - 0s 23ms/step\n",
            "1/1 [==============================] - 0s 24ms/step\n",
            "1/1 [==============================] - 0s 27ms/step\n",
            "1/1 [==============================] - 0s 24ms/step\n",
            "1/1 [==============================] - 0s 22ms/step\n",
            "1/1 [==============================] - 0s 31ms/step\n",
            "1/1 [==============================] - 0s 23ms/step\n",
            "terra death\t\n"
          ]
        }
      ]
    },
    {
      "cell_type": "code",
      "source": [
        "model.save('hero_names.h5')"
      ],
      "metadata": {
        "id": "knQTnyp17u7L"
      },
      "execution_count": 27,
      "outputs": []
    },
    {
      "cell_type": "code",
      "source": [],
      "metadata": {
        "id": "xaKZ7rdw9wLg"
      },
      "execution_count": null,
      "outputs": []
    }
  ]
}